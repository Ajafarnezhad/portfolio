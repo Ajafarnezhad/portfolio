{
  "nbformat": 4,
  "nbformat_minor": 0,
  "metadata": {
    "kernelspec": {
      "name": "python3",
      "display_name": "Python 3"
    },
    "language_info": {
      "name": "python"
    }
  },
  "cells": [
    {
      "cell_type": "markdown",
      "source": [
        "# Ventilator Pressure Prediction\n",
        "\n",
        "This notebook trains an LSTM model to predict ventilator pressure based on time-series data.\n",
        "\n",
        "<img src=\"https://raw.githubusercontent.com/google/deluca-lung/main/assets/2020-10-02%20Ventilator%20diagram.svg\" alt=\"Ventilator Diagram\">"
      ]
    },
    {
      "cell_type": "code",
      "source": [
        "import pandas as pd\n",
        "import numpy as np\n",
        "import tensorflow as tf\n",
        "from sklearn.preprocessing import StandardScaler\n",
        "from tensorflow.keras.models import Sequential\n",
        "from tensorflow.keras.layers import LSTM, Dense, Dropout\n",
        "\n",
        "# Load datasets\n",
        "train_set = pd.read_csv('../data/train.csv')\n",
        "test_set = pd.read_csv('../data/test.csv')\n",
        "\n",
        "# Check for missing values\n",
        "print(train_set.isna().sum())"
      ],
      "execution_count": null,
      "outputs": []
    },
    {
      "cell_type": "code",
      "source": [
        "# Preprocess data\n",
        "def preprocess_data(df, is_train=True):\n",
        "    features = ['R', 'C', 'time_step', 'u_in', 'u_out']\n",
        "    if is_train:\n",
        "        features.append('pressure')\n",
        "    \n",
        "    # Group by breath_id and ensure 80 time steps\n",
        "    grouped = df.groupby('breath_id').apply(lambda x: x[features].head(80)).reset_index()\n",
        "    \n",
        "    X = grouped[features[:-1] if is_train else features].values.reshape(-1, 80, len(features) - (1 if is_train else 0))\n",
        "    X = X.astype(np.float32)\n",
        "    \n",
        "    # Normalize features\n",
        "    scaler = StandardScaler()\n",
        "    X = scaler.fit_transform(X.reshape(-1, X.shape[-1])).reshape(X.shape)\n",
        "    \n",
        "    if is_train:\n",
        "        y = grouped['pressure'].values.reshape(-1, 80, 1)\n",
        "        return X, y, scaler\n",
        "    return X, scaler\n",
        "\n",
        "X_train, y_train, scaler = preprocess_data(train_set)\n",
        "X_test, _ = preprocess_data(test_set, is_train=False)"
      ],
      "execution_count": null,
      "outputs": []
    },
    {
      "cell_type": "code",
      "source": [
        "# Build LSTM model\n",
        "model = Sequential([\n",
        "    LSTM(128, input_shape=(80, 5), return_sequences=True),\n",
        "    Dropout(0.2),\n",
        "    LSTM(64, return_sequences=True),\n",
        "    Dropout(0.2),\n",
        "    Dense(32, activation='relu'),\n",
        "    Dense(1)\n",
        "])\n",
        "\n",
        "model.compile(optimizer='adam', loss='mae', metrics=['mae'])\n",
        "model.summary()"
      ],
      "execution_count": null,
      "outputs": []
    },
    {
      "cell_type": "code",
      "source": [
        "# Train model\n",
        "history = model.fit(X_train, y_train, epochs=50, batch_size=64, validation_split=0.2, verbose=1)\n",
        "\n",
        "# Save model\n",
        "model.save('../models/ventilator_lstm.h5')"
      ],
      "execution_count": null,
      "outputs": []
    },
    {
      "cell_type": "code",
      "source": [
        "# Evaluate on test set\n",
        "predictions = model.predict(X_test)\n",
        "print(predictions.shape)"
      ],
      "execution_count": null,
      "outputs": []
    }
  ]
}